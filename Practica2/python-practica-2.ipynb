{
 "cells": [
  {
   "cell_type": "markdown",
   "metadata": {
    "id": "PgHJzvphFMq-"
   },
   "source": [
    "# Python 2023 - Práctica 2"
   ]
  },
  {
   "cell_type": "markdown",
   "metadata": {},
   "source": [
    "## Objetivos\n",
    "\n",
    "- Comenzar a resolver problemas un poco más complejos.\n",
    "- Utilizar correctamente las estructuras de datos de Python\n",
    "  tratando de hacer la elección más adecuada de acuerdo al problema."
   ]
  },
  {
   "cell_type": "markdown",
   "metadata": {
    "id": "WDwTAtUvicUt"
   },
   "source": [
    "# Ejercicios"
   ]
  },
  {
   "cell_type": "markdown",
   "metadata": {
    "id": "0Ed-nHY5LdIk"
   },
   "source": [
    "1. Tomando el texto del `README.md` de [numpy](https://github.com/numpy/numpy), copiar y pegar el texto en una variable, luego imprima todas las líneas que contienen 'http' o 'https'.\n",
    "\n"
   ]
  },
  {
   "cell_type": "code",
   "execution_count": 2,
   "metadata": {
    "scrolled": true
   },
   "outputs": [
    {
     "name": "stdout",
     "output_type": "stream",
     "text": [
      "0\n"
     ]
    },
    {
     "data": {
      "text/plain": [
       "'Tomás Tobías Mazzei 08286/6 Licenciatura en astronomia Seminario de Lenguajes: \"Python\", 2023'"
      ]
     },
     "execution_count": 2,
     "metadata": {},
     "output_type": "execute_result"
    }
   ],
   "source": [
    "with open('README.md', 'r') as file:\n",
    "    README = file.read().rstrip()\n",
    "print(README.count('http:')+README.count('https'))\n",
    "README"
   ]
  },
  {
   "cell_type": "code",
   "execution_count": 3,
   "metadata": {},
   "outputs": [],
   "source": [
    "RENGLONES=README.split('\\n')\n",
    "for i in range(len(RENGLONES)):\n",
    "    if 'http:' in RENGLONES[i] or 'https:' in RENGLONES[i]:\n",
    "        print(RENGLONES[i])"
   ]
  },
  {
   "cell_type": "markdown",
   "metadata": {
    "id": "n_EIQ-8VL8hG"
   },
   "source": [
    "2. Indique la palabra que aparece mayor cantidad de veces en el texto del `README.md` de numpy. Copie y pegue el texto en una varible. \n",
    "\n",
    "Recordemos algunas funciones de string:\n",
    "* lower\n",
    "* split\n"
   ]
  },
  {
   "cell_type": "markdown",
   "metadata": {},
   "source": [
    "Investigue el módulo [Counter](https://docs.python.org/3/library/collections.html#collections.Counter) para simplificar la resolución."
   ]
  },
  {
   "cell_type": "code",
   "execution_count": 4,
   "metadata": {
    "scrolled": true
   },
   "outputs": [
    {
     "name": "stdout",
     "output_type": "stream",
     "text": [
      "Tomás Tobías Mazzei 08286 6 Licenciatura en astronomia Seminario de Lenguajes   Python   2023\n",
      "tomás\n",
      "tobías\n",
      "mazzei\n",
      "08286\n",
      "6\n",
      "licenciatura\n",
      "en\n",
      "astronomia\n",
      "seminario\n",
      "de\n",
      "lenguajes\n",
      "python\n",
      "2023\n"
     ]
    }
   ],
   "source": [
    "import string\n",
    "\n",
    "\n",
    "\n",
    "helplist=README\n",
    "\n",
    "\n",
    "for element in string.punctuation:\n",
    "#    print(element)\n",
    "    helplist=helplist.replace(element, \" \")\n",
    "    \n",
    "print(helplist)\n",
    "\n",
    "README_LIST=helplist.split()\n",
    "\n",
    "readme_list=README_LIST.copy()\n",
    "\n",
    "for i in range(len(README_LIST)):\n",
    "    readme_list[i]=README_LIST[i].lower()\n",
    "\n",
    "\n",
    "for i in range(len(README_LIST)):\n",
    "    print(README_LIST[i].lower())"
   ]
  },
  {
   "cell_type": "code",
   "execution_count": 5,
   "metadata": {},
   "outputs": [
    {
     "name": "stdout",
     "output_type": "stream",
     "text": [
      "tomás\n",
      "tobías\n",
      "mazzei\n",
      "08286\n",
      "6\n",
      "licenciatura\n",
      "en\n",
      "astronomia\n",
      "seminario\n",
      "de\n",
      "lenguajes\n",
      "python\n",
      "2023\n",
      "[('tomás', 1)]\n"
     ]
    }
   ],
   "source": [
    "from collections import Counter as Cnt\n",
    "c = Cnt(readme_list)\n",
    "claves=c.keys()\n",
    "\n",
    "\n",
    "\n",
    "\n",
    "for i in claves:\n",
    "    if c[i] == max(c.values()):\n",
    "        print(i)\n",
    "\n",
    "#print(c['the'])\n",
    "        \n",
    "print(c.most_common(1))"
   ]
  },
  {
   "cell_type": "markdown",
   "metadata": {},
   "source": [
    "## Identificando mayúsculas, minúsculas y caracteres no letras"
   ]
  },
  {
   "cell_type": "code",
   "execution_count": 6,
   "metadata": {},
   "outputs": [
    {
     "name": "stdout",
     "output_type": "stream",
     "text": [
      "False\n"
     ]
    }
   ],
   "source": [
    "texto=\"Pepepepepepe pepepepepe pepepepepepeeeeee\"\n",
    "caracter = \"T\"\n",
    "print(texto.split()[0].startswith(caracter))\n",
    "        "
   ]
  },
  {
   "cell_type": "markdown",
   "metadata": {},
   "source": [
    "¿Pero qué pasa si queremos saber indistintamente si la palabra comienza con dicha letra en minúscula o mayúscula?"
   ]
  },
  {
   "cell_type": "code",
   "execution_count": 7,
   "metadata": {},
   "outputs": [
    {
     "name": "stdout",
     "output_type": "stream",
     "text": [
      "False\n"
     ]
    }
   ],
   "source": [
    "caracter = \"t\"\n",
    "print(texto.lower().split()[0].startswith(caracter))\n",
    "        "
   ]
  },
  {
   "cell_type": "markdown",
   "metadata": {},
   "source": [
    "¿Y si el caracter ingresado no es una letra?"
   ]
  },
  {
   "cell_type": "code",
   "execution_count": 8,
   "metadata": {},
   "outputs": [
    {
     "name": "stdout",
     "output_type": "stream",
     "text": [
      "False\n"
     ]
    }
   ],
   "source": [
    "import string\n",
    "caracter = \"?\"\n",
    "print(caracter in string.ascii_letters)"
   ]
  },
  {
   "cell_type": "markdown",
   "metadata": {
    "id": "EtO2KrCcMFeP"
   },
   "source": [
    "3. Dado el siguiente texto guardado en la varible *jupyter_info*,  solicite por teclado **una letra** e imprima las palabras que comienzan con dicha letra. En caso que no se haya inrgesado un letra, indique el error. *Ver: módulo string*\n",
    "\n",
    "```python\n",
    "jupyter_info = \"\"\" JupyterLab is a web-based interactive development environment for Jupyter notebooks, \n",
    "code, and data. JupyterLab is flexible: configure and arrange the user interface to support a wide range \n",
    "of workflows in data science, scientific computing, and machine learning. JupyterLab is extensible and\n",
    "modular: write plugins that add new components and integrate with existing ones.\n",
    "\"\"\"\n",
    "```"
   ]
  },
  {
   "cell_type": "code",
   "execution_count": 9,
   "metadata": {},
   "outputs": [],
   "source": [
    "jupyter_info = \"\"\" JupyterLab is a web-based interactive development environment for Jupyter notebooks, \n",
    "code, and data. JupyterLab is flexible: configure and arrange the user interface to support a wide range \n",
    "of workflows in data science, scientific computing, and machine learning. JupyterLab is extensible and\n",
    "modular: write plugins that add new components and integrate with existing ones.\n",
    "\"\"\""
   ]
  },
  {
   "cell_type": "code",
   "execution_count": 10,
   "metadata": {},
   "outputs": [
    {
     "name": "stdout",
     "output_type": "stream",
     "text": [
      "Ingrese una letra y la bucaremos en el texto: a\n",
      "a\n",
      "and\n",
      "and\n",
      "arrange\n",
      "a\n",
      "and\n",
      "and\n",
      "add\n",
      "and\n"
     ]
    }
   ],
   "source": [
    "jupyter=jupyter_info.split()\n",
    "jupyter\n",
    "\n",
    "def retorno_letras(texto):\n",
    "    \n",
    "    \"\"\" Esta funcion, para un dado un texto, busca toda palabra que comience con una letra ingresada por teclado\"\"\"\n",
    "    \n",
    "    letter=input(\"Ingrese una letra y la bucaremos en el texto: \")\n",
    "    \n",
    "    a=[]\n",
    "    \n",
    "    if not letter in string.ascii_letters:\n",
    "        print(\"Epaaaa, eso no es una letra papa, dale media pila...\")\n",
    "    else:\n",
    "        for i in texto:\n",
    "            if i.lower().startswith(letter.lower()):\n",
    "                print(i)\n",
    "                a.append(i)\n",
    "        if len(a)==0:\n",
    "            print(f\"No hay palabras con la letra {letter}\")\n",
    "\n",
    "retorno_letras(jupyter)"
   ]
  },
  {
   "cell_type": "code",
   "execution_count": 11,
   "metadata": {},
   "outputs": [
    {
     "name": "stdout",
     "output_type": "stream",
     "text": [
      "Ingrese una letra y la bucaremos en el texto: a\n",
      "a\n",
      "and\n",
      "and\n",
      "arrange\n",
      "a\n",
      "and\n",
      "and\n",
      "add\n",
      "and\n"
     ]
    }
   ],
   "source": [
    "\n",
    "def letras_retorno(texto):\n",
    "    \n",
    "    \"\"\" Esta funcion, para un dado un texto, busca toda palabra que comience con una letra ingresada por teclado\"\"\"\n",
    "    \n",
    "    letter=input(\"Ingrese una letra y la bucaremos en el texto: \")\n",
    "    a=[]\n",
    "    \n",
    "    if not letter in string.ascii_letters:\n",
    "        print(\"Epaaaa, eso no es una letra papa, dale media pila...\")\n",
    "    else:\n",
    "        \n",
    "        [print(i) for i in texto if i.lower().startswith(letter.lower())]\n",
    "        [a.append(i) for i in texto if i.lower().startswith(letter.lower())]\n",
    "        \n",
    "        if len(a)==0:\n",
    "            print(f\"No hay palabras con la letra {letter}\")\n",
    "letras_retorno(jupyter)"
   ]
  },
  {
   "cell_type": "markdown",
   "metadata": {},
   "source": [
    "4. Para la aceptación de un artículo en un congreso se definen las siguientes especificaciones que deben cumplir y recomendaciones de escritura:\n",
    "* **título**: 10 palabras como máximo\n",
    "* cada oración del **resumen**:\n",
    "    * hasta 12 palabras: fácil de leer\n",
    "    * entre 13-17 palabras:  aceptable para leer\n",
    "    * entre 18-25 palabras: difícil de leer\n",
    "    * mas de 25 palabras: muy difícil\n",
    "\n",
    "Dado un artículo en formato string, defina si cumple las especificaciones del título y cuántas oraciones tiene de cada categoría. El formato estándar en que recibe el string tiene la siguiente forma:\n",
    "```Python\n",
    "\n",
    "evaluar = \"\"\" título: Experiences in Developing a Distributed Agent-based Modeling Toolkit with Python\n",
    "resumen: Distributed agent-based modeling (ABM) on high-performance computing resources provides the promise of capturing unprecedented details of large-scale complex systems. However, the specialized knowledge required for developing such ABMs creates barriers to wider adoption and utilization. Here we present our experiences in developing an initial implementation of Repast4Py, a Python-based distributed ABM toolkit. We build on our experiences in developing ABM toolkits, including Repast for High Performance Computing (Repast HPC), to identify the key elements of a useful distributed ABM toolkit. We leverage the Numba, NumPy, and PyTorch packages and the Python C-API to create a scalable modeling system that can exploit the largest HPC resources and emerging computing architectures.\n",
    "\"\"\"\n",
    "```"
   ]
  },
  {
   "cell_type": "code",
   "execution_count": 12,
   "metadata": {},
   "outputs": [],
   "source": [
    "def contador_palabras(lista):\n",
    "    \"\"\"Esta funcion cuenta la cantidad de palabras en cada elemento de una lista\"\"\"\n",
    "    cantidad = {}\n",
    "    \n",
    "    \n",
    "    for element in lista:\n",
    "        words=element.split()\n",
    "        cantidad[element]=len(words)\n",
    "    \n",
    "    return cantidad\n",
    "    "
   ]
  },
  {
   "cell_type": "code",
   "execution_count": 13,
   "metadata": {},
   "outputs": [],
   "source": [
    "evaluar = \"\"\" título: Experiences in Developing a Distributed Agent-based Modeling Toolkit with Python\n",
    "resumen: Distributed agent-based modeling (ABM) on high-performance computing resources provides the promise of capturing unprecedented details of large-scale complex systems. However, the specialized knowledge required for developing such ABMs creates barriers to wider adoption and utilization. Here we present our experiences in developing an initial implementation of Repast4Py, a Python-based distributed ABM toolkit. We build on our experiences in developing ABM toolkits, including Repast for High Performance Computing (Repast HPC), to identify the key elements of a useful distributed ABM toolkit. We leverage the Numba, NumPy, and PyTorch packages and the Python C-API to create a scalable modeling system that can exploit the largest HPC resources and emerging computing architectures.\n",
    "\"\"\"\n",
    "Tit_y_Res=evaluar.split(\"resumen:\",2)\n",
    "resumen=Tit_y_Res[1].split(\".\")\n",
    "\n",
    "titulo=Tit_y_Res[0].split(\":\",2)\n",
    "titulo.remove(titulo[0])\n"
   ]
  },
  {
   "cell_type": "code",
   "execution_count": 14,
   "metadata": {},
   "outputs": [
    {
     "name": "stdout",
     "output_type": "stream",
     "text": [
      "{' Experiences in Developing a Distributed Agent-based Modeling Toolkit with Python\\n': 10}\n"
     ]
    }
   ],
   "source": [
    "largo_titulo=contador_palabras(titulo)\n",
    "print(largo_titulo)"
   ]
  },
  {
   "cell_type": "code",
   "execution_count": 15,
   "metadata": {
    "scrolled": true
   },
   "outputs": [],
   "source": [
    "largo_resumen=contador_palabras(resumen)"
   ]
  },
  {
   "cell_type": "code",
   "execution_count": 16,
   "metadata": {},
   "outputs": [
    {
     "name": "stdout",
     "output_type": "stream",
     "text": [
      "El titulo tiene buen largo\n",
      "1 2 1 2\n"
     ]
    }
   ],
   "source": [
    "facil=0\n",
    "aceptable=0\n",
    "dificil=0\n",
    "mdificil=0\n",
    "\n",
    "#print(largo_titulo.values())\n",
    "\n",
    "if largo_titulo[titulo[0]] > 10:\n",
    "    print(\"Tu titulo es muy largo\")\n",
    "else:\n",
    "    print('El titulo tiene buen largo')\n",
    "    for i in largo_resumen.values():\n",
    "        if i <= 12:\n",
    "            facil+=1\n",
    "        elif i <= 17:\n",
    "            aceptable+=1\n",
    "        elif i <=25:\n",
    "            dificil+=1\n",
    "        else:\n",
    "            mdificil+=1\n",
    "\n",
    "print(facil, aceptable, dificil, mdificil)\n",
    "            "
   ]
  },
  {
   "cell_type": "markdown",
   "metadata": {},
   "source": [
    "En este ejemplo se debe informar:\n",
    "   * título: ok\n",
    "   * Cantidad de oraciones fáciles de leer: 1, aceptables para leer: 2, dificil de leer: 1,  muy difícil de leer: 2"
   ]
  },
  {
   "cell_type": "markdown",
   "metadata": {
    "id": "VwytQaHjFMrk"
   },
   "source": [
    " 5. Dada una frase y un string ingresados por teclado (en ese orden), genere una lista de palabras, y sobre ella, informe la cantidad de palabras en las que se encuentra el string. No distingir entre mayúsculas y minúsculas.\n",
    "\n",
    "**Ejemplo 1**\n",
    "\n",
    "- **Para la frase**: \"Tres tristes tigres, tragaban trigo en un trigal, en tres tristes trastos, tragaban trigo tres tristes tigres.\"\n",
    "- **Palabra**: \"tres\"\n",
    "- **Resultado**: 3\n",
    "\n",
    "**Ejemplo 2**\n",
    "\n",
    "- **Para la frase**: \"Tres tristes tigres, tragaban trigo en un trigal, en tres tristes trastos, tragaban trigo tres tristes tigres.\"\n",
    "- **Palabra**: \"tigres\"\n",
    "- **Resultado**: 2\n",
    "\n",
    "**Ejemplo 3**\n",
    "\n",
    "- **Para la frase**: \"Tres tristes tigres, tragaban trigo en un trigal, en tres tristes trastos, tragaban trigo tres tristes tigres.\"\n",
    "- **Palabra**: \"TRISTES\"\n",
    "- **Resultado**: 3"
   ]
  },
  {
   "cell_type": "code",
   "execution_count": null,
   "metadata": {},
   "outputs": [],
   "source": []
  },
  {
   "cell_type": "code",
   "execution_count": 17,
   "metadata": {},
   "outputs": [
    {
     "name": "stdout",
     "output_type": "stream",
     "text": [
      "Ingrese una frase: a\n",
      "Ingrese una palabra, sin espacios: a\n",
      "1\n"
     ]
    }
   ],
   "source": [
    "frase = input(\"Ingrese una frase: \")\n",
    "palabra = input(\"Ingrese una palabra, sin espacios: \")\n",
    "\n",
    "for element in string.punctuation:\n",
    "#    print(element)\n",
    "    frase=frase.replace(element, \" \")\n",
    "\n",
    "frase=frase.split()\n",
    "Count=0\n",
    "\n",
    "if \" \" in palabra:\n",
    "    \n",
    "    print(\"Escribiste espacios en tu palabra unica, no es valido\")\n",
    "else:\n",
    "        for a in frase:\n",
    "            \n",
    "            if a.lower() == palabra.lower():\n",
    "                Count+=1\n",
    "                #print(a, a.lower() == palabra.lower(), Count)\n",
    "                \n",
    "                \n",
    "print(Count)\n",
    "        "
   ]
  },
  {
   "cell_type": "markdown",
   "metadata": {},
   "source": [
    "6. Retomamos el código visto en la teoría, que informaba si una palabra contenía la letra *a* en una palabra ingresada"
   ]
  },
  {
   "cell_type": "code",
   "execution_count": 18,
   "metadata": {},
   "outputs": [
    {
     "name": "stdout",
     "output_type": "stream",
     "text": [
      "Ingresá una palabra: a\n",
      "Hay letras a.\n"
     ]
    }
   ],
   "source": [
    "palabra = input(\"Ingresá una palabra: \")\n",
    "if \"a\" in palabra and \"n\" in palabra:\n",
    "    print(\"Hay letras a y n.\")\n",
    "elif \"a\" in palabra:\n",
    "    print(\"Hay letras a.\")\n",
    "elif \"n\" in palabra:\n",
    "    print(\"Hay letras n.\")\n",
    "else:\n",
    "    print(\"No hay letras a ni n. \")"
   ]
  },
  {
   "cell_type": "markdown",
   "metadata": {},
   "source": [
    "Si ahora queremos saber si contiene la letra *a* y también la letra *n*, cómo lo modificamos?"
   ]
  },
  {
   "cell_type": "markdown",
   "metadata": {},
   "source": [
    "7. Dada una frase identificar mayúsculas, minúsculas y caracteres no letras y contar la cantidad de palabras sin distinguir entre mayúsculas y minúsculas, en la frase. \n",
    "```python\n",
    "texto = \"\"\"\n",
    " El salario promedio de un hombre en Argentina es de $60.000, mientras que el de una mujer es de $45.000. Además, las mujeres tienen menos posibilidades de acceder a puestos de liderazgo en las empresas.\n",
    "  \"\"\"\n",
    "```"
   ]
  },
  {
   "cell_type": "code",
   "execution_count": 19,
   "metadata": {},
   "outputs": [],
   "source": [
    "texto = \"\"\"\n",
    "    El salario promedio de un hombre en Argentina es de $60.000, mientras que el de una mujer es de $45.000.\n",
    "    Además, las mujeres tienen menos posibilidades de acceder a puestos de liderazgo en las empresas.\n",
    "    \"\"\""
   ]
  },
  {
   "cell_type": "code",
   "execution_count": 20,
   "metadata": {},
   "outputs": [
    {
     "name": "stdout",
     "output_type": "stream",
     "text": [
      "['$', ',', '.', '0', '4', '5', '6']\n",
      "['a', 'b', 'c', 'd', 'e', 'g', 'h', 'i', 'j', 'l', 'm', 'n', 'o', 'p', 'q', 'r', 's', 't', 'u', 'z']\n",
      "['A', 'E']\n"
     ]
    }
   ],
   "source": [
    "listext= texto.split()\n",
    "\n",
    "nonletters=[]\n",
    "lowercase=[]\n",
    "uppercase=[]\n",
    "\n",
    "\n",
    "\n",
    "def checkin(lista,tex):\n",
    "    \n",
    "        yourlist=[]\n",
    "        for element in lista:\n",
    "            if element in tex:\n",
    "                yourlist.append(element)\n",
    "        return yourlist\n",
    "\n",
    "nonletters=checkin(string.punctuation+string.digits, texto)\n",
    "\n",
    "lowercase=checkin(string.ascii_lowercase, texto)\n",
    "\n",
    "uppercase=checkin(string.ascii_uppercase, texto)\n",
    "\n",
    "\n",
    "\n",
    "print(nonletters)\n",
    "print(lowercase)\n",
    "print(uppercase)\n",
    "\n",
    "\n",
    "#for element in listext:\n",
    "    \n",
    "    \n",
    "    #tomi capo <3"
   ]
  },
  {
   "cell_type": "markdown",
   "metadata": {},
   "source": [
    "8. Escriba un programa que solicite que se ingrese una palabra o frase y permita identificar si la misma es un [Heterograma](https://es.qaz.wiki/wiki/Isogram) (tenga en cuenta que el contenido del enlace es una traducción del inglés por lo cual las palabras que nombra no son heterogramas en español). Un Heterograma es una palabra o frase que no tiene ninguna letra repetida entre sus caracteres.\n",
    "\n",
    "**Tener en cuenta**\n",
    "- Lo que no se puede repetir en la frase son sólo aquellos caracteres que sean letras.\n",
    "- No se distingue entre mayúsculas y minúsculas, es decir si en la frase o palabra tenemos la letra \"T\" y la letra \"t\" la misma NO será un Hererograma.\n",
    "- Para simplificar el ejercicio vamos a tomar como que las letras con tilde y sin tilde son distintas. Ya que Python las diferencia:\n",
    "```python\n",
    ">>> 'u' == 'ú'\n",
    "False\n",
    "```\n",
    "\n",
    "**Ejemplos**\n",
    "\n",
    "|Entreda|¿Heterograma?|\n",
    "|-----|-----|\n",
    "|cruzamiento|Sí|\n",
    "|centrifugados|Sí|\n",
    "|portón|Sí|\n",
    "|casa|No|\n",
    "|día de sol|No|\n",
    "|con diez uñas|Sí|\n",
    "|no-se-duplica|Sí|"
   ]
  },
  {
   "cell_type": "code",
   "execution_count": 21,
   "metadata": {},
   "outputs": [
    {
     "name": "stdout",
     "output_type": "stream",
     "text": [
      "Ingrese una palabra o frase: a\n",
      "Es la frase un Hetereograma? True\n"
     ]
    }
   ],
   "source": [
    "frase=input(\"Ingrese una palabra o frase: \")\n",
    "\n",
    "\n",
    "for element in string.punctuation:\n",
    "    frase=frase.replace(element, \" \")\n",
    "\n",
    "frase=frase.split()\n",
    "\n",
    "\n",
    "letras=[]\n",
    "for element in frase:\n",
    "    letras=letras+list(element.lower())\n",
    "\n",
    "\n",
    "setdeletras=set(letras)\n",
    "\n",
    "print(\"Es la frase un Hetereograma?\", len(letras)==len(setdeletras))\n",
    "    \n",
    "\n"
   ]
  },
  {
   "cell_type": "markdown",
   "metadata": {},
   "source": [
    "9. Escriba un programa que solicite por teclado una palabra y calcule el valor de la misma dada la siguiente tabla de valores del juego Scrabble:\n",
    "\n",
    "\n",
    "|Letra                       |valor|\n",
    "|-----                       |-----|\n",
    "|A, E, I, O, U, L, N, R, S, T|1|\n",
    "|D, G                        |2|\n",
    "|B, C, M, P                  |3|\n",
    "|F, H, V, W, Y               |4|\n",
    "|K                           |5|\n",
    "|J, X                        |8|\n",
    "|Q, Z                        |10|\n",
    "\n",
    "<center>\n",
    "  <i>*Tenga en cuenta qué estructura elige para guardar estos valores en Python</i>\n",
    "</center>\n",
    "\n",
    "**Ejemplo 1**\n",
    "\n",
    "- **Palabra**: \"solo\"\n",
    "- **valor**: 4\n",
    "\n",
    "**Ejemplo 2**\n",
    "\n",
    "- **Palabra**: \"tomate\"\n",
    "- **valor**: 8"
   ]
  },
  {
   "cell_type": "markdown",
   "metadata": {},
   "source": [
    "10. Dada una lista de nombres de estudiantes y dos listas con sus notas en un curso, escriba un programa que manipule dichas estructuras de datos para poder resolver los siguientes puntos:\n",
    "    1. Generar una estructura todas las notas sin que se repitan, sin guardar los nombres de los estudiantes.\n",
    "    2. Calcular el promedio de notas de cada estudiante.\n",
    "    3. Calcular el promedio general del curso.\n",
    "    4. Identificar al estudiante con la nota promedio más alta.\n",
    "    5. Identificar al estudiante con la nota más baja.\n",
    "\n",
    "\n",
    "**Nota**:\n",
    "- Las 3 estructuras están ordenadas de forma que los elementos en la misma posición corresponden a un mismo alumno.\n",
    "- Realizar funciones con cada item\n",
    "\n"
   ]
  },
  {
   "cell_type": "code",
   "execution_count": 64,
   "metadata": {},
   "outputs": [],
   "source": [
    "nombres = ''' 'Agustin', 'Alan', 'Andrés', 'Ariadna', 'Bautista', 'CAROLINA', 'CESAR',\n",
    "'David','Diego', 'Dolores', 'DYLAN', 'ELIANA', 'Emanuel', 'Fabián', 'Facundo',\n",
    "'Francsica', 'FEDERICO', 'Fernanda', 'GONZALO', 'Gregorio', 'Ignacio', 'Jonathan',\n",
    "'Joaquina', 'Jorge', 'JOSE', 'Javier', 'Joaquín' , 'Julian', 'Julieta', 'Luciana',\n",
    "'LAUTARO', 'Leonel', 'Luisa', 'Luis', 'Marcos', 'María', 'MATEO', 'Matias',\n",
    "'Nicolás', 'Nancy', 'Noelia', 'Pablo', 'Priscila', 'Sabrina', 'Tomás', 'Ulises',\n",
    "'Yanina' '''\n",
    "notas_1 = [81,  60, 72, 24, 15, 91, 12, 70, 29, 42, 16, 3, 35, 67, 10, 57, 11, 69, 12, 77, \n",
    "           13, 86, 48, 65, 51, 41, 87, 43, 10, 87, 91, 15, 44, 85, 73, 37, 42, 95, 18, 7, \n",
    "           74, 60, 9, 65, 93, 63, 74]\n",
    "notas_2 = [30, 95, 28, 84, 84, 43, 66, 51, 4, 11, 58, 10, 13, 34, 96, 71, 86, 37, 64, 13, 8,\n",
    "           87, 14, 14, 49, 27, 55, 69, 77, 59, 57, 40, 96, 24, 30, 73, 95, 19, 47, 15, 31,\n",
    "           39, 15, 74, 33, 57, 10]"
   ]
  },
  {
   "cell_type": "code",
   "execution_count": 65,
   "metadata": {
    "scrolled": true
   },
   "outputs": [
    {
     "name": "stdout",
     "output_type": "stream",
     "text": [
      "[' Agustin', ' Alan', ' Andrés', ' Ariadna', ' Bautista', ' CAROLINA', ' CESAR', ' David', 'Diego', ' Dolores', ' DYLAN', ' ELIANA', ' Emanuel', ' Fabián', ' Facundo', ' Francsica', ' FEDERICO', ' Fernanda', ' GONZALO', ' Gregorio', ' Ignacio', ' Jonathan', ' Joaquina', ' Jorge', ' JOSE', ' Javier', ' Joaquín ', ' Julian', ' Julieta', ' Luciana', ' LAUTARO', ' Leonel', ' Luisa', ' Luis', ' Marcos', ' María', ' MATEO', ' Matias', ' Nicolás', ' Nancy', ' Noelia', ' Pablo', ' Priscila', ' Sabrina', ' Tomás', ' Ulises', ' Yanina ']\n"
     ]
    }
   ],
   "source": [
    "#CONVERTIMOS EL ARCHIVO DE NOMBRES EN UNA LISTA PARA OPERAR CON FACILIDAD\n",
    "\n",
    "ID=nombres.replace('\\n',' ').replace('\\'', '').split(',') \n",
    "\n",
    "print((ID))"
   ]
  },
  {
   "cell_type": "code",
   "execution_count": null,
   "metadata": {},
   "outputs": [],
   "source": []
  },
  {
   "cell_type": "code",
   "execution_count": 66,
   "metadata": {
    "scrolled": true
   },
   "outputs": [
    {
     "name": "stdout",
     "output_type": "stream",
     "text": [
      "{' Agustin': [81, 30], ' Alan': [60, 95], ' Andrés': [72, 28], ' Ariadna': [24, 84], ' Bautista': [15, 84], ' CAROLINA': [91, 43], ' CESAR': [12, 66], ' David': [70, 51], 'Diego': [29, 4], ' Dolores': [42, 11], ' DYLAN': [16, 58], ' ELIANA': [3, 10], ' Emanuel': [35, 13], ' Fabián': [67, 34], ' Facundo': [10, 96], ' Francsica': [57, 71], ' FEDERICO': [11, 86], ' Fernanda': [69, 37], ' GONZALO': [12, 64], ' Gregorio': [77, 13], ' Ignacio': [13, 8], ' Jonathan': [86, 87], ' Joaquina': [48, 14], ' Jorge': [65, 14], ' JOSE': [51, 49], ' Javier': [41, 27], ' Joaquín ': [87, 55], ' Julian': [43, 69], ' Julieta': [10, 77], ' Luciana': [87, 59], ' LAUTARO': [91, 57], ' Leonel': [15, 40], ' Luisa': [44, 96], ' Luis': [85, 24], ' Marcos': [73, 30], ' María': [37, 73], ' MATEO': [42, 95], ' Matias': [95, 19], ' Nicolás': [18, 47], ' Nancy': [7, 15], ' Noelia': [74, 31], ' Pablo': [60, 39], ' Priscila': [9, 15], ' Sabrina': [65, 74], ' Tomás': [93, 33], ' Ulises': [63, 57], ' Yanina ': [74, 10]}\n"
     ]
    }
   ],
   "source": [
    "#CONVERTIMOS LAS TRES LISTAS EN UN DICCIONARIO, DONDE LAS CLAVES SON LOS NOMBRES Y LOS VALUES SON LAS LISTAS\n",
    "#DE NOTAS\n",
    "registro={}\n",
    "for i in range(len(ID)):\n",
    "    registro[ID[i]]=[notas_1[i],notas_2[i]]\n",
    "print(registro)"
   ]
  },
  {
   "cell_type": "code",
   "execution_count": 67,
   "metadata": {
    "scrolled": true
   },
   "outputs": [
    {
     "name": "stdout",
     "output_type": "stream",
     "text": [
      "El promedio de Agustin es 55.5\n",
      "El promedio de Alan es 77.5\n",
      "El promedio de Andrés es 50.0\n",
      "El promedio de Ariadna es 54.0\n",
      "El promedio de Bautista es 49.5\n",
      "El promedio de CAROLINA es 67.0\n",
      "El promedio de CESAR es 39.0\n",
      "El promedio de David es 60.5\n",
      "El promedio deDiego es 16.5\n",
      "El promedio de Dolores es 26.5\n",
      "El promedio de DYLAN es 37.0\n",
      "El promedio de ELIANA es 6.5\n",
      "El promedio de Emanuel es 24.0\n",
      "El promedio de Fabián es 50.5\n",
      "El promedio de Facundo es 53.0\n",
      "El promedio de Francsica es 64.0\n",
      "El promedio de FEDERICO es 48.5\n",
      "El promedio de Fernanda es 53.0\n",
      "El promedio de GONZALO es 38.0\n",
      "El promedio de Gregorio es 45.0\n",
      "El promedio de Ignacio es 10.5\n",
      "El promedio de Jonathan es 86.5\n",
      "El promedio de Joaquina es 31.0\n",
      "El promedio de Jorge es 39.5\n",
      "El promedio de JOSE es 50.0\n",
      "El promedio de Javier es 34.0\n",
      "El promedio de Joaquín  es 71.0\n",
      "El promedio de Julian es 56.0\n",
      "El promedio de Julieta es 43.5\n",
      "El promedio de Luciana es 73.0\n",
      "El promedio de LAUTARO es 74.0\n",
      "El promedio de Leonel es 27.5\n",
      "El promedio de Luisa es 70.0\n",
      "El promedio de Luis es 54.5\n",
      "El promedio de Marcos es 51.5\n",
      "El promedio de María es 55.0\n",
      "El promedio de MATEO es 68.5\n",
      "El promedio de Matias es 57.0\n",
      "El promedio de Nicolás es 32.5\n",
      "El promedio de Nancy es 11.0\n",
      "El promedio de Noelia es 52.5\n",
      "El promedio de Pablo es 49.5\n",
      "El promedio de Priscila es 12.0\n",
      "El promedio de Sabrina es 69.5\n",
      "El promedio de Tomás es 63.0\n",
      "El promedio de Ulises es 60.0\n",
      "El promedio de Yanina  es 42.0\n",
      "\n",
      "\n",
      "    ----------------------------------------\n",
      "    \n",
      "    El promedio general de la clase es 48.09574468085106\n",
      "        \n",
      "    ----------------------------------------------\n",
      "{' Agustin': [81, 30, 55.5], ' Alan': [60, 95, 77.5], ' Andrés': [72, 28, 50.0], ' Ariadna': [24, 84, 54.0], ' Bautista': [15, 84, 49.5], ' CAROLINA': [91, 43, 67.0], ' CESAR': [12, 66, 39.0], ' David': [70, 51, 60.5], 'Diego': [29, 4, 16.5], ' Dolores': [42, 11, 26.5], ' DYLAN': [16, 58, 37.0], ' ELIANA': [3, 10, 6.5], ' Emanuel': [35, 13, 24.0], ' Fabián': [67, 34, 50.5], ' Facundo': [10, 96, 53.0], ' Francsica': [57, 71, 64.0], ' FEDERICO': [11, 86, 48.5], ' Fernanda': [69, 37, 53.0], ' GONZALO': [12, 64, 38.0], ' Gregorio': [77, 13, 45.0], ' Ignacio': [13, 8, 10.5], ' Jonathan': [86, 87, 86.5], ' Joaquina': [48, 14, 31.0], ' Jorge': [65, 14, 39.5], ' JOSE': [51, 49, 50.0], ' Javier': [41, 27, 34.0], ' Joaquín ': [87, 55, 71.0], ' Julian': [43, 69, 56.0], ' Julieta': [10, 77, 43.5], ' Luciana': [87, 59, 73.0], ' LAUTARO': [91, 57, 74.0], ' Leonel': [15, 40, 27.5], ' Luisa': [44, 96, 70.0], ' Luis': [85, 24, 54.5], ' Marcos': [73, 30, 51.5], ' María': [37, 73, 55.0], ' MATEO': [42, 95, 68.5], ' Matias': [95, 19, 57.0], ' Nicolás': [18, 47, 32.5], ' Nancy': [7, 15, 11.0], ' Noelia': [74, 31, 52.5], ' Pablo': [60, 39, 49.5], ' Priscila': [9, 15, 12.0], ' Sabrina': [65, 74, 69.5], ' Tomás': [93, 33, 63.0], ' Ulises': [63, 57, 60.0], ' Yanina ': [74, 10, 42.0]}\n"
     ]
    }
   ],
   "source": [
    "def promedio(**kwargs):\n",
    "    \n",
    "    \"\"\" Este programa, dado un diccionario de los estudiantes con notas calcula el promedio de estas notas \n",
    "    e imprime por pantalla el promedio del estudiante junto con su nombre. Además, calcula el promedio general \n",
    "    de la clase en base a los promedios individuales y devuelve un diccionario con el promedio de cada estudiante\"\"\"\n",
    "    \n",
    "    PROM_GRAL=0\n",
    "    \n",
    "    registro_de_promedio={}\n",
    "\n",
    "    \n",
    "    for clave, valor in kwargs.items():    #recorremos los items del diccionario\n",
    "        \n",
    "        a=0                                # a sera la variable donde sumaremos las notas para el promedio\n",
    "        cont=0                         # En un principio supondremos la cantidad de notas desconocidas para ello \n",
    "                                       # cont contabilizara las notas y dividira \"a\" para el promedio \n",
    "        \n",
    "        for i in valor:\n",
    "            a+=i\n",
    "            cont+=1\n",
    "        \n",
    "        a/=cont\n",
    "        \n",
    "        print(f\"El promedio de{clave} es {a}\")\n",
    "        \n",
    "        PROM_GRAL+=a                   # en cada iteracion del for sumamos la nota del alumno al promedio gral\n",
    "        \n",
    "        kwargs[clave].append(a)  # ...y la añadimos a un diccionario que contiene solo {nombre: promedio}\n",
    "        \n",
    "    PROM_GRAL/=len(kwargs)             # Finalmente, una vez recorridos todos los alumnos dividimos la suma de\n",
    "                                       #  promedio gral por la cantidad de alumnos para el promedio de la clase.\n",
    "    print()\n",
    "    print(f\"\"\"\n",
    "    ----------------------------------------\n",
    "    \n",
    "    El promedio general de la clase es {PROM_GRAL}\n",
    "        \n",
    "    ----------------------------------------------\"\"\")\n",
    "    \n",
    "\n",
    "\n",
    "promedio(**registro)  #Llamamos a nuestra función sobre el diccionario que creamos"
   ]
  },
  {
   "cell_type": "code",
   "execution_count": 52,
   "metadata": {},
   "outputs": [
    {
     "name": "stdout",
     "output_type": "stream",
     "text": [
      "Help on function promedio in module __main__:\n",
      "\n",
      "promedio(**kwargs)\n",
      "    Este programa, dado un diccionario de los estudiantes con notas calcula el promedio de estas notas \n",
      "    e imprime por pantalla el promedio del estudiante junto con su nombre. Además, calcula el promedio general \n",
      "    de la clase en base a los promedios individuales y devuelve un diccionario con el promedio de cada estudiante\n",
      "\n"
     ]
    }
   ],
   "source": [
    "help(promedio)"
   ]
  },
  {
   "cell_type": "code",
   "execution_count": 53,
   "metadata": {},
   "outputs": [
    {
     "name": "stdout",
     "output_type": "stream",
     "text": [
      "El mejor promedio es  Jonathan con 86.5.\n"
     ]
    }
   ],
   "source": [
    "#TOMAMOS EL DICCIONARIO DE SALIDA DE NUESTRA FUNCION Y LO SORTEAMOS SEGUN LA COLUMNA DE VALORES\n",
    "\n",
    "high_value= max(registro.items(), key=lambda item: item[1][2]) #Sorteado de mayor a menor\n",
    "\n",
    "print(f\"El mejor promedio es {high_value[0]} con {high_value[1][2]}.\")"
   ]
  },
  {
   "cell_type": "code",
   "execution_count": 63,
   "metadata": {},
   "outputs": [
    {
     "name": "stdout",
     "output_type": "stream",
     "text": [
      "La menor nota es  ELIANA con 3 en el primer examen\n"
     ]
    }
   ],
   "source": [
    "min1=min(registro.items(), key=lambda item: item[1][0])\n",
    "min2=min(registro.items(), key=lambda item: item[1][1])\n",
    "\n",
    "for name in registro.keys():\n",
    "    if min1 <= min2:\n",
    "        if registro[name][0]==min1[1][0]:\n",
    "            print(f\"La menor nota es {name} con {registro[name][0]} en el primer examen\")\n",
    "    elif min2 < min1:\n",
    "        if registro[name][1]==min2[1][1]:\n",
    "            print(f\"La menor nota es {name} con {registro[name][1]} en el segundo examen\")\n",
    "        "
   ]
  },
  {
   "cell_type": "markdown",
   "metadata": {},
   "source": [
    "# Entrega 2\n",
    "### Pautas\n",
    "   * Suba la resolución total del **ejercicio 10** al repositorio individual de Github, luego elija uno de los siguientes items: A,C,D o E y realice un video explicando cómo lo resolvió y las decisiones que tomó implementando map, zip, lambda (por qué utilizó cada estructura de datos o estructura de control) y muestre la ejecución del programa en la terminal.\n",
    "   * **Duración máxima del video**: 5 minutos\n",
    "\n",
    "   * **Puntos**: 15.\n",
    "   * **Fecha límite de entrega**: Viernes, 14 de abril de 2023, 23:59\n",
    "   * **Modalidad de entrega**: Subir el programa al repositorio de github y copie el enlace del repositorio  junto con el link del video en la resolución de la tarea de Cátedras.\n",
    "\n"
   ]
  },
  {
   "cell_type": "code",
   "execution_count": null,
   "metadata": {},
   "outputs": [],
   "source": []
  }
 ],
 "metadata": {
  "colab": {
   "collapsed_sections": [],
   "name": "Practica 2 - Resuelta.ipynb",
   "provenance": [],
   "toc_visible": true
  },
  "kernelspec": {
   "display_name": "Python 3 (ipykernel)",
   "language": "python",
   "name": "python3"
  },
  "language_info": {
   "codemirror_mode": {
    "name": "ipython",
    "version": 3
   },
   "file_extension": ".py",
   "mimetype": "text/x-python",
   "name": "python",
   "nbconvert_exporter": "python",
   "pygments_lexer": "ipython3",
   "version": "3.11.0"
  }
 },
 "nbformat": 4,
 "nbformat_minor": 4
}
